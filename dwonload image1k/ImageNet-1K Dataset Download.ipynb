{
 "cells": [
  {
   "cell_type": "code",
   "execution_count": null,
   "metadata": {},
   "outputs": [],
   "source": [
    "！wget https://image-net.org/data/ILSVRC/2012/ILSVRC2012_img_train.tar --no-check-certificate\n",
    "！wget https://image-net.org/data/ILSVRC/2012/ILSVRC2012_img_val.tar --no-check-certificate\n",
    "！wget https://image-net.org/data/ILSVRC/2012/ILSVRC2012_devkit_t12.tar.gz --no-check-certificate\n"
   ]
  },
  {
   "cell_type": "code",
   "execution_count": null,
   "metadata": {},
   "outputs": [],
   "source": [
    "！cd /home/data/imagenet\n",
    "！mkdir train && tar -xvf ILSVRC2012_img_train.tar -C train && for x in `ls train/*tar`; do fn=train/`basename $x .tar`; mkdir $fn; tar -xvf $x -C $fn; rm -f $fn.tar; done\n",
    "！cd train\n",
    "!ls -lR|grep \"^d\"|wc -l\n",
    "!ls -lR|grep \"^-\"|wc -l\n",
    "!cd /home/data/imagenet\n",
    "!mkdir val\n",
    "!tar xvf ILSVRC2012_img_val.tar -C ./val\n",
    "!tar -xzf ILSVRC2012_devkit_t12.tar.gz"
   ]
  },
  {
   "cell_type": "code",
   "execution_count": null,
   "metadata": {},
   "outputs": [],
   "source": [
    "from scipy import io\n",
    "import os\n",
    "import shutil\n",
    "\n",
    "def move_valimg(val_dir='./val', devkit_dir='./ILSVRC2012_devkit_t12'):\n",
    "    \"\"\"\n",
    "    move valimg to correspongding folders.\n",
    "    val_id(start from 1) -> ILSVRC_ID(start from 1) -> WIND\n",
    "    organize like:\n",
    "    /val\n",
    "       /n01440764\n",
    "           images\n",
    "       /n01443537\n",
    "           images\n",
    "        .....\n",
    "    \"\"\"\n",
    "    # load synset, val ground truth and val images list\n",
    "    synset = io.loadmat(os.path.join(devkit_dir, 'data', 'meta.mat'))\n",
    "    \n",
    "    ground_truth = open(os.path.join(devkit_dir, 'data', 'ILSVRC2012_validation_ground_truth.txt'))\n",
    "    lines = ground_truth.readlines()\n",
    "    labels = [int(line[:-1]) for line in lines]\n",
    "    \n",
    "    root, _, filenames = next(os.walk(val_dir))\n",
    "    for filename in filenames:\n",
    "        # val image name -> ILSVRC ID -> WIND\n",
    "        val_id = int(filename.split('.')[0].split('_')[-1])\n",
    "        ILSVRC_ID = labels[val_id-1]\n",
    "        WIND = synset['synsets'][ILSVRC_ID-1][0][1][0]\n",
    "        print(\"val_id:%d, ILSVRC_ID:%d, WIND:%s\" % (val_id, ILSVRC_ID, WIND))\n",
    "\n",
    "        # move val images\n",
    "        output_dir = os.path.join(root, WIND)\n",
    "        if os.path.isdir(output_dir):\n",
    "            pass\n",
    "        else:\n",
    "            os.mkdir(output_dir)\n",
    "        shutil.move(os.path.join(root, filename), os.path.join(output_dir, filename))\n",
    "\n",
    "if __name__ == '__main__':\n",
    "    move_valimg()\n"
   ]
  },
  {
   "cell_type": "code",
   "execution_count": null,
   "metadata": {},
   "outputs": [],
   "source": [
    "!cd /home/data/imagenet\n",
    "!python unzip.py"
   ]
  }
 ],
 "metadata": {
  "kernelspec": {
   "display_name": "Python 3",
   "language": "python",
   "name": "python3"
  },
  "language_info": {
   "codemirror_mode": {
    "name": "ipython",
    "version": 3
   },
   "file_extension": ".py",
   "mimetype": "text/x-python",
   "name": "python",
   "nbconvert_exporter": "python",
   "pygments_lexer": "ipython3",
   "version": "3.8.5"
  }
 },
 "nbformat": 4,
 "nbformat_minor": 4
}
